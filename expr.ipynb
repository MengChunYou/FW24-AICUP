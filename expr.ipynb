{
 "cells": [
  {
   "cell_type": "code",
   "execution_count": 4,
   "metadata": {},
   "outputs": [],
   "source": [
    "train_path = \"data/train_data\""
   ]
  },
  {
   "cell_type": "code",
   "execution_count": 12,
   "metadata": {},
   "outputs": [],
   "source": [
    "import os\n",
    "import warnings\n",
    "from src.utils.utils import load_data\n",
    "\n",
    "warnings.filterwarnings(\"ignore\")"
   ]
  },
  {
   "cell_type": "code",
   "execution_count": 31,
   "metadata": {},
   "outputs": [
    {
     "data": {
      "text/html": [
       "<pre style=\"white-space:pre;overflow-x:auto;line-height:normal;font-family:Menlo,'DejaVu Sans Mono',consolas,'Courier New',monospace\"></pre>\n"
      ],
      "text/plain": []
     },
     "metadata": {},
     "output_type": "display_data"
    }
   ],
   "source": [
    "import pandas as pd\n",
    "train_df = load_data(train_path).sort_values(\"LocationCode\", ascending=True)\n",
    "crawl_df = pd.read_parquet(\"data/auto_weather_center.parquet\")"
   ]
  },
  {
   "cell_type": "code",
   "execution_count": 32,
   "metadata": {},
   "outputs": [
    {
     "name": "stdout",
     "output_type": "stream",
     "text": [
      "Index(['LocationCode', 'DateTime', 'WindSpeed(m/s)', 'Pressure(hpa)',\n",
      "       'Temperature(°C)', 'Humidity(%)', 'Sunlight(Lux)', 'Power(mW)', 'month',\n",
      "       'day', 'hour', 'unq'],\n",
      "      dtype='object')\n"
     ]
    }
   ],
   "source": [
    "train_df['DateTime'] = pd.to_datetime(train_df['DateTime'])\n",
    "train_df['DateTime'] = train_df['DateTime'].dt.strftime(\"%Y-%m-%d %H:%M\").to_frame()\n",
    "train_df['DateTime'] = pd.to_datetime(train_df['DateTime'])\n",
    "train_df['month'] = train_df['DateTime'].dt.month\n",
    "train_df['day'] = train_df['DateTime'].dt.day\n",
    "train_df['hour'] = train_df['DateTime'].dt.hour\n",
    "train_df['unq'] = train_df['month'].astype(str) + train_df['day'].astype(str) + train_df['hour'].astype(str) \n",
    "print(train_df.columns)"
   ]
  },
  {
   "cell_type": "code",
   "execution_count": 33,
   "metadata": {},
   "outputs": [
    {
     "data": {
      "text/plain": [
       "unq\n",
       "7116     1618\n",
       "5317     1618\n",
       "7117     1596\n",
       "7115     1594\n",
       "5316     1583\n",
       "         ... \n",
       "690         2\n",
       "52421       2\n",
       "32821       1\n",
       "52221       1\n",
       "7144        1\n",
       "Name: count, Length: 2957, dtype: int64"
      ]
     },
     "execution_count": 33,
     "metadata": {},
     "output_type": "execute_result"
    }
   ],
   "source": [
    "train_df['unq'].value_counts()"
   ]
  },
  {
   "cell_type": "code",
   "execution_count": 34,
   "metadata": {},
   "outputs": [],
   "source": [
    "group = train_df.groupby(['LocationCode', 'unq'])[['WindSpeed(m/s)', 'Pressure(hpa)',\n",
    "       'Temperature(°C)', 'Humidity(%)']].mean()"
   ]
  },
  {
   "cell_type": "code",
   "execution_count": 35,
   "metadata": {},
   "outputs": [],
   "source": [
    "crawl_df['DateTime'] = pd.to_datetime(crawl_df['DateTime'])\n",
    "crawl_df['DateTime'] = crawl_df['DateTime'].dt.strftime(\"%Y-%m-%d %H:%M\").to_frame()\n",
    "crawl_df['DateTime'] = pd.to_datetime(crawl_df['DateTime'])\n",
    "crawl_df['month'] = crawl_df['DateTime'].dt.month\n",
    "crawl_df['day'] = crawl_df['DateTime'].dt.day\n",
    "crawl_df['hour'] = crawl_df['DateTime'].dt.hour\n",
    "crawl_df['unq'] = crawl_df['month'].astype(str) + crawl_df['day'].astype(str) + crawl_df['hour'].astype(str) \n"
   ]
  },
  {
   "cell_type": "code",
   "execution_count": 38,
   "metadata": {},
   "outputs": [
    {
     "data": {
      "text/plain": [
       "unq\n",
       "7311     142\n",
       "1215     142\n",
       "3122     142\n",
       "3121     142\n",
       "3120     142\n",
       "        ... \n",
       "11211     71\n",
       "11212     71\n",
       "11213     71\n",
       "11214     71\n",
       "42723     71\n",
       "Name: count, Length: 4730, dtype: int64"
      ]
     },
     "execution_count": 38,
     "metadata": {},
     "output_type": "execute_result"
    }
   ],
   "source": [
    "crawl_df['unq'].value_counts()"
   ]
  },
  {
   "cell_type": "code",
   "execution_count": 37,
   "metadata": {},
   "outputs": [],
   "source": [
    "s_group = crawl_df.groupby(['StationId', 'unq'])[['WindSpeed', 'AirPressure', 'AirTemperature', 'RelativeHumidity']].mean()\n",
    "\n"
   ]
  },
  {
   "cell_type": "code",
   "execution_count": 41,
   "metadata": {},
   "outputs": [],
   "source": [
    "second_index_group = group.index.get_level_values('unq')\n",
    "filtered_sgroup = s_group[\n",
    "    s_group.index.get_level_values('unq').isin(second_index_group)\n",
    "]"
   ]
  },
  {
   "cell_type": "code",
   "execution_count": 46,
   "metadata": {},
   "outputs": [],
   "source": [
    "filtered_sgroup.columns = group.columns"
   ]
  },
  {
   "cell_type": "code",
   "execution_count": 56,
   "metadata": {},
   "outputs": [],
   "source": [
    "import numpy as np\n",
    "def sim(vec1, vec2):\n",
    "    vec1, vec2 = vec1.to_numpy(), vec2.to_numpy()\n",
    "    dot_product = np.dot(vec1, vec2)\n",
    "    magnitude_vec1 = np.linalg.norm(vec1)\n",
    "    magnitude_vec2 = np.linalg.norm(vec2)\n",
    "    return dot_product / (magnitude_vec1 * magnitude_vec2)"
   ]
  },
  {
   "cell_type": "code",
   "execution_count": 65,
   "metadata": {},
   "outputs": [
    {
     "name": "stderr",
     "output_type": "stream",
     "text": [
      "100%|██████████| 17/17 [00:10<00:00,  1.56it/s]\n"
     ]
    }
   ],
   "source": [
    "from tqdm import tqdm\n",
    "\n",
    "unq_first_index = group.index.get_level_values('LocationCode').unique()\n",
    "unq_first_index2 = filtered_sgroup.index.get_level_values('StationId').unique()\n",
    "cols = len(group.columns)\n",
    "\n",
    "pair = []\n",
    "for idx in tqdm(unq_first_index):\n",
    "    subgroup = group[group.index.get_level_values('LocationCode') == idx]\n",
    "    max_cosine = -np.inf\n",
    "    sim_station = \"\"\n",
    "    for sta in unq_first_index2:\n",
    "        subcrawl = filtered_sgroup[\n",
    "            filtered_sgroup.index.get_level_values('StationId') == sta\n",
    "        ]\n",
    "        subgroup_reset = subgroup.reset_index(level='LocationCode')\n",
    "        subcrawl_reset = subcrawl.reset_index(level='StationId')\n",
    "        df_joined = pd.merge(\n",
    "            subgroup_reset,\n",
    "            subcrawl_reset,\n",
    "            on='unq',\n",
    "            how='left',\n",
    "            suffixes=(\"_grp\", \"_crw\")\n",
    "        )\n",
    "        df_joined.drop(columns=[\"LocationCode\", \"StationId\"], inplace=True)\n",
    "        df_joined.fillna(df_joined.mean(), inplace=True)\n",
    "        cosines = 0\n",
    "        for col in subgroup.columns:\n",
    "            cosines += sim(df_joined[f\"{col}_grp\"], df_joined[f\"{col}_crw\"])\n",
    "        cosines = cosines / cols\n",
    "        if cosines > max_cosine:\n",
    "            max_cosine = cosines\n",
    "            sim_station = sta\n",
    "\n",
    "    pair.append((idx, sim_station))\n",
    "            "
   ]
  },
  {
   "cell_type": "code",
   "execution_count": null,
   "metadata": {},
   "outputs": [],
   "source": []
  }
 ],
 "metadata": {
  "kernelspec": {
   "display_name": "base",
   "language": "python",
   "name": "python3"
  },
  "language_info": {
   "codemirror_mode": {
    "name": "ipython",
    "version": 3
   },
   "file_extension": ".py",
   "mimetype": "text/x-python",
   "name": "python",
   "nbconvert_exporter": "python",
   "pygments_lexer": "ipython3",
   "version": "3.12.2"
  }
 },
 "nbformat": 4,
 "nbformat_minor": 2
}
